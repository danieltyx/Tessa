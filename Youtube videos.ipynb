{
 "cells": [
  {
   "cell_type": "code",
   "execution_count": 65,
   "metadata": {},
   "outputs": [],
   "source": [
    "import pandas as pd"
   ]
  },
  {
   "cell_type": "code",
   "execution_count": 66,
   "metadata": {},
   "outputs": [
    {
     "name": "stdout",
     "output_type": "stream",
     "text": [
      "[{'id': 'v7AYKMP6rOE', 'thumbnails': ['https://i.ytimg.com/vi/v7AYKMP6rOE/hq720.jpg?sqp=-oaymwEjCOgCEMoBSFryq4qpAxUIARUAAAAAGAElAADIQj0AgKJDeAE=&rs=AOn4CLBhgfkIP0sWW8hQq2_9LO2fTyTxQA', 'https://i.ytimg.com/vi/v7AYKMP6rOE/hq720.jpg?sqp=-oaymwEXCNAFEJQDSFryq4qpAwkIARUAAIhCGAE=&rs=AOn4CLCUhLQ6vY9jF3K7RRlG_1Uk5ygsGQ'], 'title': 'Yoga For Complete Beginners - 20 Minute Home Yoga Workout!', 'long_desc': 'Yoga', 'channel': 'Yoga With Adriene', 'duration': '23:45', 'views': '34,692,174 views', 'url_suffix': '/watch?v=v7AYKMP6rOE'}]\n"
     ]
    }
   ],
   "source": [
    "from youtube_search import YoutubeSearch\n",
    "\n",
    "#results = YoutubeSearch('Yoga Videos', max_results=10).to_json()\n",
    "\n",
    "#print(results)\n",
    "\n",
    "# returns a json string\n",
    "\n",
    "########################################\n",
    "\n",
    "results = YoutubeSearch('Yoga Video', max_results=1).to_dict()\n",
    "\n",
    "\n",
    "print(results)\n",
    "# returns a dictionary"
   ]
  },
  {
   "cell_type": "code",
   "execution_count": 67,
   "metadata": {},
   "outputs": [],
   "source": [
    "df = pd.DataFrame(results)"
   ]
  },
  {
   "cell_type": "code",
   "execution_count": 68,
   "metadata": {},
   "outputs": [],
   "source": [
    "code = '''<html>\n",
    "<body>\n",
    "\n",
    "<iframe width=\"420\" height=\"315\"\n",
    "src=\"https://www.youtube.com/embed/tgbNymZ7vqY?playlist=tgbNymZ7vqY&loop=1\">\n",
    "</iframe>\n",
    "\n",
    "</body>\n",
    "</html>\n",
    "'''"
   ]
  },
  {
   "cell_type": "code",
   "execution_count": 70,
   "metadata": {},
   "outputs": [
    {
     "data": {
      "text/plain": [
       "list"
      ]
     },
     "execution_count": 70,
     "metadata": {},
     "output_type": "execute_result"
    }
   ],
   "source": [
    "type(results)"
   ]
  },
  {
   "cell_type": "code",
   "execution_count": 71,
   "metadata": {},
   "outputs": [
    {
     "data": {
      "text/plain": [
       "{'id': 'v7AYKMP6rOE',\n",
       " 'thumbnails': ['https://i.ytimg.com/vi/v7AYKMP6rOE/hq720.jpg?sqp=-oaymwEjCOgCEMoBSFryq4qpAxUIARUAAAAAGAElAADIQj0AgKJDeAE=&rs=AOn4CLBhgfkIP0sWW8hQq2_9LO2fTyTxQA',\n",
       "  'https://i.ytimg.com/vi/v7AYKMP6rOE/hq720.jpg?sqp=-oaymwEXCNAFEJQDSFryq4qpAwkIARUAAIhCGAE=&rs=AOn4CLCUhLQ6vY9jF3K7RRlG_1Uk5ygsGQ'],\n",
       " 'title': 'Yoga For Complete Beginners - 20 Minute Home Yoga Workout!',\n",
       " 'long_desc': 'Yoga',\n",
       " 'channel': 'Yoga With Adriene',\n",
       " 'duration': '23:45',\n",
       " 'views': '34,692,174 views',\n",
       " 'url_suffix': '/watch?v=v7AYKMP6rOE'}"
      ]
     },
     "execution_count": 71,
     "metadata": {},
     "output_type": "execute_result"
    }
   ],
   "source": [
    "results[0]"
   ]
  },
  {
   "cell_type": "code",
   "execution_count": 72,
   "metadata": {},
   "outputs": [],
   "source": [
    "def videosetup(title, channel, url_suffix, thumbnails, long_description):\n",
    "    code= '''<tr><td>\n",
    "    <table width=\"650\" cellspacing=\"0\" border=\"0\" align=\"left\"> \n",
    "    <tr><td align='center'><h1>''' +\\\n",
    "    title +\\\n",
    "    '''</h1></td></tr> \n",
    "    <tr> <td align=\"right\">''' +\\\n",
    "    channel +\\\n",
    "    '''</td></tr>\n",
    "    <tr> <td> <a href=\"https://www.youtube.com/''' +\\\n",
    "    url_suffix +\\\n",
    "   '''\"><img src=\"''' +\\\n",
    "    thumbnails +\\\n",
    "    '''\"></a> </td></tr> \n",
    "    <tr><td>''' +\\\n",
    "    long_description +\\\n",
    "    '''</td></tr> \n",
    "    </table>\n",
    "    </td></tr>\n",
    "    '''\n",
    "    #print(code) \n",
    "    return(code)"
   ]
  },
  {
   "cell_type": "code",
   "execution_count": 73,
   "metadata": {},
   "outputs": [],
   "source": [
    "htmlFirstCode= '''<html>\n",
    "    <body><center>\n",
    "    <body style=\"background-color:#e1ecec;\">\n",
    "    <table border=10; bordercolor=\"red\">'''"
   ]
  },
  {
   "cell_type": "code",
   "execution_count": 74,
   "metadata": {},
   "outputs": [],
   "source": [
    "htmlLastCode = '''</table>\n",
    "    <style>\n",
    "      img {\n",
    "        width: 650px;\n",
    "        padding: 0px;\n",
    "        border: 10px solid #000000;\n",
    "      }\n",
    "    </style>\n",
    "    </td></tr>\n",
    "    </table>\n",
    "\n",
    "    </body>\n",
    "    </html>'''"
   ]
  },
  {
   "cell_type": "code",
   "execution_count": 75,
   "metadata": {},
   "outputs": [
    {
     "ename": "TypeError",
     "evalue": "can only concatenate str (not \"list\") to str",
     "output_type": "error",
     "traceback": [
      "\u001b[1;31m---------------------------------------------------------------------------\u001b[0m",
      "\u001b[1;31mTypeError\u001b[0m                                 Traceback (most recent call last)",
      "\u001b[1;32m<ipython-input-75-e875e1904d53>\u001b[0m in \u001b[0;36m<module>\u001b[1;34m\u001b[0m\n\u001b[0;32m      3\u001b[0m \u001b[1;32mwhile\u001b[0m \u001b[0mi\u001b[0m\u001b[1;33m<\u001b[0m\u001b[1;36m10\u001b[0m\u001b[1;33m:\u001b[0m\u001b[1;33m\u001b[0m\u001b[1;33m\u001b[0m\u001b[0m\n\u001b[0;32m      4\u001b[0m     \u001b[1;31m#print(df['content'][i])\u001b[0m\u001b[1;33m\u001b[0m\u001b[1;33m\u001b[0m\u001b[1;33m\u001b[0m\u001b[0m\n\u001b[1;32m----> 5\u001b[1;33m     \u001b[0mallYogaVideos\u001b[0m \u001b[1;33m=\u001b[0m \u001b[0mallYogaVideos\u001b[0m \u001b[1;33m+\u001b[0m \u001b[0mvideosetup\u001b[0m\u001b[1;33m(\u001b[0m\u001b[0mdf\u001b[0m\u001b[1;33m[\u001b[0m\u001b[1;34m'title'\u001b[0m\u001b[1;33m]\u001b[0m\u001b[1;33m[\u001b[0m\u001b[0mi\u001b[0m\u001b[1;33m]\u001b[0m\u001b[1;33m,\u001b[0m \u001b[0mdf\u001b[0m\u001b[1;33m[\u001b[0m\u001b[1;34m'channel'\u001b[0m\u001b[1;33m]\u001b[0m\u001b[1;33m[\u001b[0m\u001b[0mi\u001b[0m\u001b[1;33m]\u001b[0m\u001b[1;33m,\u001b[0m \u001b[0mdf\u001b[0m\u001b[1;33m[\u001b[0m\u001b[1;34m'url_suffix'\u001b[0m\u001b[1;33m]\u001b[0m\u001b[1;33m[\u001b[0m\u001b[0mi\u001b[0m\u001b[1;33m]\u001b[0m\u001b[1;33m,\u001b[0m \u001b[0mdf\u001b[0m\u001b[1;33m[\u001b[0m\u001b[1;34m'thumbnails'\u001b[0m\u001b[1;33m]\u001b[0m\u001b[1;33m[\u001b[0m\u001b[0mi\u001b[0m\u001b[1;33m]\u001b[0m\u001b[1;33m,\u001b[0m \u001b[0mdf\u001b[0m\u001b[1;33m[\u001b[0m\u001b[1;34m'long_desc'\u001b[0m\u001b[1;33m]\u001b[0m\u001b[1;33m[\u001b[0m\u001b[0mi\u001b[0m\u001b[1;33m]\u001b[0m\u001b[1;33m)\u001b[0m\u001b[1;33m\u001b[0m\u001b[1;33m\u001b[0m\u001b[0m\n\u001b[0m\u001b[0;32m      6\u001b[0m     \u001b[0mi\u001b[0m\u001b[1;33m=\u001b[0m\u001b[0mi\u001b[0m\u001b[1;33m+\u001b[0m\u001b[1;36m1\u001b[0m\u001b[1;33m\u001b[0m\u001b[1;33m\u001b[0m\u001b[0m\n",
      "\u001b[1;32m<ipython-input-72-e78df7447767>\u001b[0m in \u001b[0;36mvideosetup\u001b[1;34m(title, channel, url_suffix, thumbnails, long_description)\u001b[0m\n\u001b[0;32m     14\u001b[0m     '''\"></a> </td></tr> \n\u001b[0;32m     15\u001b[0m     <tr><td>''' +\\\n\u001b[1;32m---> 16\u001b[1;33m     \u001b[0mlong_description\u001b[0m \u001b[1;33m+\u001b[0m\u001b[0;31m\\\u001b[0m\u001b[1;33m\u001b[0m\u001b[1;33m\u001b[0m\u001b[0m\n\u001b[0m\u001b[0;32m     17\u001b[0m     '''</td></tr> \n\u001b[0;32m     18\u001b[0m     \u001b[1;33m<\u001b[0m\u001b[1;33m/\u001b[0m\u001b[0mtable\u001b[0m\u001b[1;33m>\u001b[0m\u001b[1;33m\u001b[0m\u001b[1;33m\u001b[0m\u001b[0m\n",
      "\u001b[1;31mTypeError\u001b[0m: can only concatenate str (not \"list\") to str"
     ]
    }
   ],
   "source": [
    "i=0\n",
    "allYogaVideos = \"\"\n",
    "while i<10:\n",
    "    #print(df['content'][i])\n",
    "    allYogaVideos = allYogaVideos + videosetup(df['title'][i], df['channel'][i], df['url_suffix'][i], df['thumbnails'][i], df['long_desc'][i])\n",
    "    i=i+1"
   ]
  },
  {
   "cell_type": "code",
   "execution_count": 76,
   "metadata": {},
   "outputs": [],
   "source": [
    "with open (\"video.html\", \"w\") as file:\n",
    "    file.write(htmlFirstCode + allYogaVideos + htmlLastCode)"
   ]
  },
  {
   "cell_type": "code",
   "execution_count": null,
   "metadata": {},
   "outputs": [],
   "source": []
  }
 ],
 "metadata": {
  "kernelspec": {
   "display_name": "Python 3",
   "language": "python",
   "name": "python3"
  },
  "language_info": {
   "codemirror_mode": {
    "name": "ipython",
    "version": 3
   },
   "file_extension": ".py",
   "mimetype": "text/x-python",
   "name": "python",
   "nbconvert_exporter": "python",
   "pygments_lexer": "ipython3",
   "version": "3.7.6"
  }
 },
 "nbformat": 4,
 "nbformat_minor": 4
}
