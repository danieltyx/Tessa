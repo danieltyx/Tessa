{
 "cells": [
  {
   "cell_type": "code",
   "execution_count": 230,
   "metadata": {},
   "outputs": [],
   "source": [
    "import pandas as pd"
   ]
  },
  {
   "cell_type": "code",
   "execution_count": 231,
   "metadata": {},
   "outputs": [],
   "source": [
    "code = '''<html>\n",
    "<body>\n",
    "\n",
    "<iframe width=\"420\" height=\"315\"\n",
    "src=\"https://www.youtube.com/embed/tgbNymZ7vqY?playlist=tgbNymZ7vqY&loop=1\">\n",
    "</iframe>\n",
    "\n",
    "</body>\n",
    "</html>\n",
    "'''"
   ]
  },
  {
   "cell_type": "code",
   "execution_count": 232,
   "metadata": {},
   "outputs": [
    {
     "name": "stdout",
     "output_type": "stream",
     "text": [
      "[{'id': 'v7AYKMP6rOE', 'thumbnails': ['https://i.ytimg.com/vi/v7AYKMP6rOE/hq720.jpg?sqp=-oaymwEjCOgCEMoBSFryq4qpAxUIARUAAAAAGAElAADIQj0AgKJDeAE=&rs=AOn4CLBhgfkIP0sWW8hQq2_9LO2fTyTxQA', 'https://i.ytimg.com/vi/v7AYKMP6rOE/hq720.jpg?sqp=-oaymwEXCNAFEJQDSFryq4qpAwkIARUAAIhCGAE=&rs=AOn4CLCUhLQ6vY9jF3K7RRlG_1Uk5ygsGQ'], 'title': 'Yoga For Complete Beginners - 20 Minute Home Yoga Workout!', 'long_desc': 'Yoga', 'channel': 'Yoga With Adriene', 'duration': '23:45', 'views': '34,692,174 views', 'url_suffix': '/watch?v=v7AYKMP6rOE'}, {'id': '4pKly2JojMw', 'thumbnails': ['https://i.ytimg.com/vi/4pKly2JojMw/hq720.jpg?sqp=-oaymwEjCOgCEMoBSFryq4qpAxUIARUAAAAAGAElAADIQj0AgKJDeAE=&rs=AOn4CLBBe6UbRHmpeGBCg1WgvAd8oUQl5g', 'https://i.ytimg.com/vi/4pKly2JojMw/hq720.jpg?sqp=-oaymwEXCNAFEJQDSFryq4qpAwkIARUAAIhCGAE=&rs=AOn4CLAaJqRRKleSzRD-vfaU7a0dNry32g'], 'title': '10 min Morning Yoga Full Body Stretch', 'long_desc': 'Stretch out stiff, tired and achy muscles with this 10 minute morning ', 'channel': 'Yoga with Kassandra', 'duration': '10:56', 'views': '17,600,710 views', 'url_suffix': '/watch?v=4pKly2JojMw'}, {'id': 'sTANio_2E0Q', 'thumbnails': ['https://i.ytimg.com/vi/sTANio_2E0Q/hq720.jpg?sqp=-oaymwEjCOgCEMoBSFryq4qpAxUIARUAAAAAGAElAADIQj0AgKJDeAE=&rs=AOn4CLBU0vGEUAjVETUPMB6XSDoBOa1ziw', 'https://i.ytimg.com/vi/sTANio_2E0Q/hq720.jpg?sqp=-oaymwEXCNAFEJQDSFryq4qpAwkIARUAAIhCGAE=&rs=AOn4CLAqj2JCEe1luHKorJV7toOPI5Omsw'], 'title': '20 min Full Body STRETCH/YOGA for STRESS & ANXIETY Relief', 'long_desc': 'De-stress with this 20 minute calming ', 'channel': 'MadFit', 'duration': '20:56', 'views': '4,774,478 views', 'url_suffix': '/watch?v=sTANio_2E0Q'}, {'id': 'Pz5sO8b9G2o', 'thumbnails': ['https://i.ytimg.com/vi/Pz5sO8b9G2o/hq720.jpg?sqp=-oaymwEjCOgCEMoBSFryq4qpAxUIARUAAAAAGAElAADIQj0AgKJDeAE=&rs=AOn4CLBmVB0EJzLUCOAnaqPK-ClNI-C30A', 'https://i.ytimg.com/vi/Pz5sO8b9G2o/hq720.jpg?sqp=-oaymwEXCNAFEJQDSFryq4qpAwkIARUAAIhCGAE=&rs=AOn4CLBTU5SYaBd1bPzWEzB96LWede_tlQ'], 'title': '30 minute Full Body Yoga for Flexibility & Strength | Sarah Beth Yoga', 'long_desc': 'This 30 minute full body Flow ', 'channel': 'SarahBethYoga', 'duration': '30:40', 'views': '1,418,723 views', 'url_suffix': '/watch?v=Pz5sO8b9G2o'}, {'id': 'b1H3xO3x_Js', 'thumbnails': ['https://i.ytimg.com/vi/b1H3xO3x_Js/hq720.jpg?sqp=-oaymwEjCOgCEMoBSFryq4qpAxUIARUAAAAAGAElAADIQj0AgKJDeAE=&rs=AOn4CLC6OSUSidMoMUdQJM1B2ErkIP0CjQ', 'https://i.ytimg.com/vi/b1H3xO3x_Js/hq720.jpg?sqp=-oaymwEXCNAFEJQDSFryq4qpAwkIARUAAIhCGAE=&rs=AOn4CLD5fV3jys9KS0GaN2FYStckSsLAcw'], 'title': 'Full Body Flow  |  20 Min. Yoga Practice  |  Yoga With Adriene', 'long_desc': 'Set an intention and get ready to get the juices flowing in this fun and supportive 19 minute Full Body ', 'channel': 'Yoga With Adriene', 'duration': '19:18', 'views': '5,876,629 views', 'url_suffix': '/watch?v=b1H3xO3x_Js'}, {'id': 'KEYSO-Tc2Go', 'thumbnails': ['https://i.ytimg.com/vi/KEYSO-Tc2Go/hq720.jpg?sqp=-oaymwEjCOgCEMoBSFryq4qpAxUIARUAAAAAGAElAADIQj0AgKJDeAE=&rs=AOn4CLD-vEB00I_NV6805U7_6-S3Awng1w', 'https://i.ytimg.com/vi/KEYSO-Tc2Go/hq720.jpg?sqp=-oaymwEXCNAFEJQDSFryq4qpAwkIARUAAIhCGAE=&rs=AOn4CLBhXzrIzr1VEle9ZB81DWcj_VzT6A'], 'title': '20 Minute Everyday Vinyasa Flow Yoga Class | lululemon', 'long_desc': 'Join our global ambassador and founder of Girlvana, Ally Maz, in an all-levels vinyasa flow ', 'channel': 'lululemon', 'duration': '20:22', 'views': '2,902,366 views', 'url_suffix': '/watch?v=KEYSO-Tc2Go'}, {'id': 'VaoV1PrYft4', 'thumbnails': ['https://i.ytimg.com/vi/VaoV1PrYft4/hq720.jpg?sqp=-oaymwEjCOgCEMoBSFryq4qpAxUIARUAAAAAGAElAADIQj0AgKJDeAE=&rs=AOn4CLCuU5DDAitQ9slr1YE3C62cpHntYQ', 'https://i.ytimg.com/vi/VaoV1PrYft4/hq720.jpg?sqp=-oaymwEXCNAFEJQDSFryq4qpAwkIARUAAIhCGAE=&rs=AOn4CLC-SvW8urAQouE-ugyvB3SrY_0oqg'], 'title': '10 minute Morning Yoga for Beginners', 'long_desc': 'Join me in this quick and simple 10 minute morning ', 'channel': 'SarahBethYoga', 'duration': '10:00', 'views': '15,245,796 views', 'url_suffix': '/watch?v=VaoV1PrYft4'}, {'id': '_kl_DxglATI', 'thumbnails': ['https://i.ytimg.com/vi/_kl_DxglATI/hq720.jpg?sqp=-oaymwEjCOgCEMoBSFryq4qpAxUIARUAAAAAGAElAADIQj0AgKJDeAE=&rs=AOn4CLDMhbekXxux1GhzwEz10CMcEDIhXw', 'https://i.ytimg.com/vi/_kl_DxglATI/hq720.jpg?sqp=-oaymwEXCNAFEJQDSFryq4qpAwkIARUAAIhCGAE=&rs=AOn4CLA5RlpfKzgWCZuzj7K_PP0Hutly_g'], 'title': '45 Minute Everyday Vinyasa Flow Yoga Class | lululemon', 'long_desc': 'Join our global ambassador and founder of Girlvana, Ally Maz, in an all-levels vinyasa flow ', 'channel': 'lululemon', 'duration': '40:57', 'views': '1,614,975 views', 'url_suffix': '/watch?v=_kl_DxglATI'}, {'id': 'S9p5yhE6_fk', 'thumbnails': ['https://i.ytimg.com/vi/S9p5yhE6_fk/hqdefault.jpg?sqp=-oaymwEjCOADEI4CSFryq4qpAxUIARUAAAAAGAElAADIQj0AgKJDeAE=&rs=AOn4CLAcEsjdgHS1sptmxZvS3u4w7C767A'], 'title': '30-Minute Power Yoga Flow For Tight Abs and a Toned Butt', 'long_desc': 'This 30-minute ', 'channel': 'POPSUGAR Fitness', 'duration': '28:50', 'views': '4,888,705 views', 'url_suffix': '/watch?v=S9p5yhE6_fk'}, {'id': 'Nw2oBIrQGLo', 'thumbnails': ['https://i.ytimg.com/vi/Nw2oBIrQGLo/hq720.jpg?sqp=-oaymwEjCOgCEMoBSFryq4qpAxUIARUAAAAAGAElAADIQj0AgKJDeAE=&rs=AOn4CLCXbYIBys4blNIQn1HdTNZGBZU9cQ', 'https://i.ytimg.com/vi/Nw2oBIrQGLo/hq720.jpg?sqp=-oaymwEXCNAFEJQDSFryq4qpAwkIARUAAIhCGAE=&rs=AOn4CLBQbH2e9BEjocZeqmXAkFdpyFzQLQ'], 'title': '15 minute CALMING YOGA for Stress Relief and Anxiety', 'long_desc': 'Use this 15 minute calming ', 'channel': 'SarahBethYoga', 'duration': '16:00', 'views': '1,679,958 views', 'url_suffix': '/watch?v=Nw2oBIrQGLo'}]\n"
     ]
    }
   ],
   "source": [
    "from youtube_search import YoutubeSearch\n",
    "\n",
    "#results = YoutubeSearch('Yoga Videos', max_results=10).to_json()\n",
    "\n",
    "#print(results)\n",
    "\n",
    "# returns a json string\n",
    "\n",
    "########################################\n",
    "\n",
    "results = YoutubeSearch('Yoga Video', max_results=10).to_dict()\n",
    "\n",
    "\n",
    "print(results)\n",
    "# returns a dictionary"
   ]
  },
  {
   "cell_type": "code",
   "execution_count": 233,
   "metadata": {},
   "outputs": [],
   "source": [
    "df = pd.DataFrame(results)"
   ]
  },
  {
   "cell_type": "code",
   "execution_count": 234,
   "metadata": {},
   "outputs": [
    {
     "data": {
      "text/plain": [
       "pandas.core.frame.DataFrame"
      ]
     },
     "execution_count": 234,
     "metadata": {},
     "output_type": "execute_result"
    }
   ],
   "source": [
    "#type(results)\n",
    "type(df)"
   ]
  },
  {
   "cell_type": "code",
   "execution_count": 235,
   "metadata": {},
   "outputs": [
    {
     "data": {
      "text/plain": [
       "'https://i.ytimg.com/vi/sTANio_2E0Q/hq720.jpg?sqp=-oaymwEjCOgCEMoBSFryq4qpAxUIARUAAAAAGAElAADIQj0AgKJDeAE=&rs=AOn4CLBU0vGEUAjVETUPMB6XSDoBOa1ziw'"
      ]
     },
     "execution_count": 235,
     "metadata": {},
     "output_type": "execute_result"
    }
   ],
   "source": [
    "#results[1]\n",
    "df.iloc[2,1][0]"
   ]
  },
  {
   "cell_type": "code",
   "execution_count": 236,
   "metadata": {},
   "outputs": [],
   "source": [
    "def videosetup(title, channel, url_suffix, thumbnails, long_description):\n",
    "    print(\"Inside VideoS Setup\")\n",
    "    code= '''<tr><td>\n",
    "    <table width=\"650\" cellspacing=\"0\" border=\"0\" align=\"left\"> \n",
    "    <tr><td align='center'><h1>''' + title + '''</h1></td></tr>\n",
    "    <tr><td>''' + channel + '''</td></tr>\n",
    "    <tr><td> <a href=\"https://www.youtube.com''' + url_suffix + '''\"><img src=\"''' + thumbnails + '''\"></a></td></tr>\n",
    "    <tr><td>''' + long_description + '''</td></tr>\n",
    "    </table>\n",
    "    </td></tr>\n",
    "    '''\n",
    "    #print(code) \n",
    "    return(code)"
   ]
  },
  {
   "cell_type": "code",
   "execution_count": 237,
   "metadata": {},
   "outputs": [],
   "source": [
    "htmlFirstCode= '''<html>\n",
    "    <body><center>\n",
    "    <body style=\"background-color:#e1ecec;\">\n",
    "    <table border=10; bordercolor=\"red\">'''"
   ]
  },
  {
   "cell_type": "code",
   "execution_count": 238,
   "metadata": {},
   "outputs": [],
   "source": [
    "htmlLastCode = '''</table>\n",
    "    <style>\n",
    "      img {\n",
    "        width: 650px;\n",
    "        padding: 0px;\n",
    "        border: 10px solid #000000;\n",
    "      }\n",
    "    </style>\n",
    "    </td></tr>\n",
    "    </table>\n",
    "\n",
    "    </body>\n",
    "    </html>'''"
   ]
  },
  {
   "cell_type": "code",
   "execution_count": 239,
   "metadata": {},
   "outputs": [
    {
     "name": "stdout",
     "output_type": "stream",
     "text": [
      "Inside VideoS Setup\n",
      "Inside VideoS Setup\n",
      "Inside VideoS Setup\n",
      "Inside VideoS Setup\n",
      "Inside VideoS Setup\n",
      "Inside VideoS Setup\n",
      "Inside VideoS Setup\n",
      "Inside VideoS Setup\n",
      "Inside VideoS Setup\n",
      "Inside VideoS Setup\n"
     ]
    }
   ],
   "source": [
    "i=0\n",
    "allYogaVideos = \"\"\n",
    "while i<10:\n",
    "    #print(df['content'][i])\n",
    "    allYogaVideos = allYogaVideos + videosetup(df.iloc[i,2], df.iloc[i,4], df.iloc[i,7], df.iloc[i,1][0], df.iloc[i,3])\n",
    "    i=i+1"
   ]
  },
  {
   "cell_type": "code",
   "execution_count": 240,
   "metadata": {},
   "outputs": [],
   "source": [
    "with open (\"video.html\", \"w\") as file:\n",
    "    file.write(htmlFirstCode + allYogaVideos + htmlLastCode)"
   ]
  },
  {
   "cell_type": "code",
   "execution_count": 241,
   "metadata": {},
   "outputs": [
    {
     "data": {
      "text/html": [
       "<div>\n",
       "<style scoped>\n",
       "    .dataframe tbody tr th:only-of-type {\n",
       "        vertical-align: middle;\n",
       "    }\n",
       "\n",
       "    .dataframe tbody tr th {\n",
       "        vertical-align: top;\n",
       "    }\n",
       "\n",
       "    .dataframe thead th {\n",
       "        text-align: right;\n",
       "    }\n",
       "</style>\n",
       "<table border=\"1\" class=\"dataframe\">\n",
       "  <thead>\n",
       "    <tr style=\"text-align: right;\">\n",
       "      <th></th>\n",
       "      <th>id</th>\n",
       "      <th>thumbnails</th>\n",
       "      <th>title</th>\n",
       "      <th>long_desc</th>\n",
       "      <th>channel</th>\n",
       "      <th>duration</th>\n",
       "      <th>views</th>\n",
       "      <th>url_suffix</th>\n",
       "    </tr>\n",
       "  </thead>\n",
       "  <tbody>\n",
       "    <tr>\n",
       "      <th>1</th>\n",
       "      <td>4pKly2JojMw</td>\n",
       "      <td>[https://i.ytimg.com/vi/4pKly2JojMw/hq720.jpg?...</td>\n",
       "      <td>10 min Morning Yoga Full Body Stretch</td>\n",
       "      <td>Stretch out stiff, tired and achy muscles with...</td>\n",
       "      <td>Yoga with Kassandra</td>\n",
       "      <td>10:56</td>\n",
       "      <td>17,600,710 views</td>\n",
       "      <td>/watch?v=4pKly2JojMw</td>\n",
       "    </tr>\n",
       "    <tr>\n",
       "      <th>2</th>\n",
       "      <td>sTANio_2E0Q</td>\n",
       "      <td>[https://i.ytimg.com/vi/sTANio_2E0Q/hq720.jpg?...</td>\n",
       "      <td>20 min Full Body STRETCH/YOGA for STRESS &amp; ANX...</td>\n",
       "      <td>De-stress with this 20 minute calming</td>\n",
       "      <td>MadFit</td>\n",
       "      <td>20:56</td>\n",
       "      <td>4,774,478 views</td>\n",
       "      <td>/watch?v=sTANio_2E0Q</td>\n",
       "    </tr>\n",
       "    <tr>\n",
       "      <th>3</th>\n",
       "      <td>Pz5sO8b9G2o</td>\n",
       "      <td>[https://i.ytimg.com/vi/Pz5sO8b9G2o/hq720.jpg?...</td>\n",
       "      <td>30 minute Full Body Yoga for Flexibility &amp; Str...</td>\n",
       "      <td>This 30 minute full body Flow</td>\n",
       "      <td>SarahBethYoga</td>\n",
       "      <td>30:40</td>\n",
       "      <td>1,418,723 views</td>\n",
       "      <td>/watch?v=Pz5sO8b9G2o</td>\n",
       "    </tr>\n",
       "    <tr>\n",
       "      <th>4</th>\n",
       "      <td>b1H3xO3x_Js</td>\n",
       "      <td>[https://i.ytimg.com/vi/b1H3xO3x_Js/hq720.jpg?...</td>\n",
       "      <td>Full Body Flow  |  20 Min. Yoga Practice  |  Y...</td>\n",
       "      <td>Set an intention and get ready to get the juic...</td>\n",
       "      <td>Yoga With Adriene</td>\n",
       "      <td>19:18</td>\n",
       "      <td>5,876,629 views</td>\n",
       "      <td>/watch?v=b1H3xO3x_Js</td>\n",
       "    </tr>\n",
       "    <tr>\n",
       "      <th>5</th>\n",
       "      <td>KEYSO-Tc2Go</td>\n",
       "      <td>[https://i.ytimg.com/vi/KEYSO-Tc2Go/hq720.jpg?...</td>\n",
       "      <td>20 Minute Everyday Vinyasa Flow Yoga Class | l...</td>\n",
       "      <td>Join our global ambassador and founder of Girl...</td>\n",
       "      <td>lululemon</td>\n",
       "      <td>20:22</td>\n",
       "      <td>2,902,366 views</td>\n",
       "      <td>/watch?v=KEYSO-Tc2Go</td>\n",
       "    </tr>\n",
       "    <tr>\n",
       "      <th>6</th>\n",
       "      <td>VaoV1PrYft4</td>\n",
       "      <td>[https://i.ytimg.com/vi/VaoV1PrYft4/hq720.jpg?...</td>\n",
       "      <td>10 minute Morning Yoga for Beginners</td>\n",
       "      <td>Join me in this quick and simple 10 minute mor...</td>\n",
       "      <td>SarahBethYoga</td>\n",
       "      <td>10:00</td>\n",
       "      <td>15,245,796 views</td>\n",
       "      <td>/watch?v=VaoV1PrYft4</td>\n",
       "    </tr>\n",
       "    <tr>\n",
       "      <th>7</th>\n",
       "      <td>_kl_DxglATI</td>\n",
       "      <td>[https://i.ytimg.com/vi/_kl_DxglATI/hq720.jpg?...</td>\n",
       "      <td>45 Minute Everyday Vinyasa Flow Yoga Class | l...</td>\n",
       "      <td>Join our global ambassador and founder of Girl...</td>\n",
       "      <td>lululemon</td>\n",
       "      <td>40:57</td>\n",
       "      <td>1,614,975 views</td>\n",
       "      <td>/watch?v=_kl_DxglATI</td>\n",
       "    </tr>\n",
       "    <tr>\n",
       "      <th>8</th>\n",
       "      <td>S9p5yhE6_fk</td>\n",
       "      <td>[https://i.ytimg.com/vi/S9p5yhE6_fk/hqdefault....</td>\n",
       "      <td>30-Minute Power Yoga Flow For Tight Abs and a ...</td>\n",
       "      <td>This 30-minute</td>\n",
       "      <td>POPSUGAR Fitness</td>\n",
       "      <td>28:50</td>\n",
       "      <td>4,888,705 views</td>\n",
       "      <td>/watch?v=S9p5yhE6_fk</td>\n",
       "    </tr>\n",
       "    <tr>\n",
       "      <th>9</th>\n",
       "      <td>Nw2oBIrQGLo</td>\n",
       "      <td>[https://i.ytimg.com/vi/Nw2oBIrQGLo/hq720.jpg?...</td>\n",
       "      <td>15 minute CALMING YOGA for Stress Relief and A...</td>\n",
       "      <td>Use this 15 minute calming</td>\n",
       "      <td>SarahBethYoga</td>\n",
       "      <td>16:00</td>\n",
       "      <td>1,679,958 views</td>\n",
       "      <td>/watch?v=Nw2oBIrQGLo</td>\n",
       "    </tr>\n",
       "  </tbody>\n",
       "</table>\n",
       "</div>"
      ],
      "text/plain": [
       "            id                                         thumbnails  \\\n",
       "1  4pKly2JojMw  [https://i.ytimg.com/vi/4pKly2JojMw/hq720.jpg?...   \n",
       "2  sTANio_2E0Q  [https://i.ytimg.com/vi/sTANio_2E0Q/hq720.jpg?...   \n",
       "3  Pz5sO8b9G2o  [https://i.ytimg.com/vi/Pz5sO8b9G2o/hq720.jpg?...   \n",
       "4  b1H3xO3x_Js  [https://i.ytimg.com/vi/b1H3xO3x_Js/hq720.jpg?...   \n",
       "5  KEYSO-Tc2Go  [https://i.ytimg.com/vi/KEYSO-Tc2Go/hq720.jpg?...   \n",
       "6  VaoV1PrYft4  [https://i.ytimg.com/vi/VaoV1PrYft4/hq720.jpg?...   \n",
       "7  _kl_DxglATI  [https://i.ytimg.com/vi/_kl_DxglATI/hq720.jpg?...   \n",
       "8  S9p5yhE6_fk  [https://i.ytimg.com/vi/S9p5yhE6_fk/hqdefault....   \n",
       "9  Nw2oBIrQGLo  [https://i.ytimg.com/vi/Nw2oBIrQGLo/hq720.jpg?...   \n",
       "\n",
       "                                               title  \\\n",
       "1              10 min Morning Yoga Full Body Stretch   \n",
       "2  20 min Full Body STRETCH/YOGA for STRESS & ANX...   \n",
       "3  30 minute Full Body Yoga for Flexibility & Str...   \n",
       "4  Full Body Flow  |  20 Min. Yoga Practice  |  Y...   \n",
       "5  20 Minute Everyday Vinyasa Flow Yoga Class | l...   \n",
       "6               10 minute Morning Yoga for Beginners   \n",
       "7  45 Minute Everyday Vinyasa Flow Yoga Class | l...   \n",
       "8  30-Minute Power Yoga Flow For Tight Abs and a ...   \n",
       "9  15 minute CALMING YOGA for Stress Relief and A...   \n",
       "\n",
       "                                           long_desc              channel  \\\n",
       "1  Stretch out stiff, tired and achy muscles with...  Yoga with Kassandra   \n",
       "2             De-stress with this 20 minute calming                MadFit   \n",
       "3                     This 30 minute full body Flow         SarahBethYoga   \n",
       "4  Set an intention and get ready to get the juic...    Yoga With Adriene   \n",
       "5  Join our global ambassador and founder of Girl...            lululemon   \n",
       "6  Join me in this quick and simple 10 minute mor...        SarahBethYoga   \n",
       "7  Join our global ambassador and founder of Girl...            lululemon   \n",
       "8                                    This 30-minute      POPSUGAR Fitness   \n",
       "9                        Use this 15 minute calming         SarahBethYoga   \n",
       "\n",
       "  duration             views            url_suffix  \n",
       "1    10:56  17,600,710 views  /watch?v=4pKly2JojMw  \n",
       "2    20:56   4,774,478 views  /watch?v=sTANio_2E0Q  \n",
       "3    30:40   1,418,723 views  /watch?v=Pz5sO8b9G2o  \n",
       "4    19:18   5,876,629 views  /watch?v=b1H3xO3x_Js  \n",
       "5    20:22   2,902,366 views  /watch?v=KEYSO-Tc2Go  \n",
       "6    10:00  15,245,796 views  /watch?v=VaoV1PrYft4  \n",
       "7    40:57   1,614,975 views  /watch?v=_kl_DxglATI  \n",
       "8    28:50   4,888,705 views  /watch?v=S9p5yhE6_fk  \n",
       "9    16:00   1,679,958 views  /watch?v=Nw2oBIrQGLo  "
      ]
     },
     "execution_count": 241,
     "metadata": {},
     "output_type": "execute_result"
    }
   ],
   "source": [
    "df[1:10]"
   ]
  },
  {
   "cell_type": "code",
   "execution_count": null,
   "metadata": {},
   "outputs": [],
   "source": []
  },
  {
   "cell_type": "code",
   "execution_count": null,
   "metadata": {},
   "outputs": [],
   "source": []
  },
  {
   "cell_type": "code",
   "execution_count": null,
   "metadata": {},
   "outputs": [],
   "source": []
  }
 ],
 "metadata": {
  "kernelspec": {
   "display_name": "Python 3",
   "language": "python",
   "name": "python3"
  },
  "language_info": {
   "codemirror_mode": {
    "name": "ipython",
    "version": 3
   },
   "file_extension": ".py",
   "mimetype": "text/x-python",
   "name": "python",
   "nbconvert_exporter": "python",
   "pygments_lexer": "ipython3",
   "version": "3.7.6"
  }
 },
 "nbformat": 4,
 "nbformat_minor": 4
}
