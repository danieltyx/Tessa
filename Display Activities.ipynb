{
 "cells": [
  {
   "cell_type": "code",
   "execution_count": 3,
   "metadata": {},
   "outputs": [],
   "source": [
    "from newsapi import NewsApiClient\n",
    "api = NewsApiClient(api_key='30d4b2c9b89f4e2bbde4b61c14b008c3')\n",
    "import pandas as pd"
   ]
  },
  {
   "cell_type": "code",
   "execution_count": 4,
   "metadata": {
    "scrolled": true
   },
   "outputs": [],
   "source": [
    "covidnews = api.get_everything(q='happiness, yoga',language='en',sort_by='relevancy')\n",
    "articles = covidnews['articles']\n",
    "df = pd.DataFrame(articles)"
   ]
  },
  {
   "cell_type": "code",
   "execution_count": 5,
   "metadata": {},
   "outputs": [],
   "source": [
    "def newssetup(Titlenews, newssource, articlelink, articleimage, description):\n",
    "    code= '''<tr><td>\n",
    "    <table width=\"650\" cellspacing=\"0\" border=\"0\" align=\"left\"> \n",
    "    <tr><td align='center'><h1>''' +\\\n",
    "    Titlenews +\\\n",
    "    '''</h1></td></tr> \n",
    "    <tr> <td align=\"right\">''' +\\\n",
    "    newssource +\\\n",
    "    '''</td></tr>\n",
    "    <tr> <td> <a href=\"''' +\\\n",
    "    articlelink +\\\n",
    "   '''\"><img src=\"''' +\\\n",
    "    articleimage +\\\n",
    "    '''\"></a> </td></tr> \n",
    "    <tr><td>''' +\\\n",
    "    description +\\\n",
    "    '''</td></tr> \n",
    "    </table>\n",
    "    </td></tr>\n",
    "    '''\n",
    "    #print(code) \n",
    "    return(code)"
   ]
  },
  {
   "cell_type": "code",
   "execution_count": 6,
   "metadata": {},
   "outputs": [],
   "source": [
    "htmlFirstCode= '''<html>\n",
    "    <body><center>\n",
    "    <body style=\"background-color:#e1ecec;\">\n",
    "    <table border=10; bordercolor=\"red\">'''"
   ]
  },
  {
   "cell_type": "code",
   "execution_count": 7,
   "metadata": {},
   "outputs": [],
   "source": [
    "htmlLastCode = '''</table>\n",
    "    <style>\n",
    "      img {\n",
    "        width: 650px;\n",
    "        padding: 0px;\n",
    "        border: 10px solid #000000;\n",
    "      }\n",
    "    </style>\n",
    "    </td></tr>\n",
    "    </table>\n",
    "\n",
    "    </body>\n",
    "    </html>'''"
   ]
  },
  {
   "cell_type": "code",
   "execution_count": 8,
   "metadata": {},
   "outputs": [],
   "source": [
    "i=0\n",
    "newsAllArticles = \"\"\n",
    "while i<10:\n",
    "    #print(df['content'][i])\n",
    "    newsAllArticles = newsAllArticles + newssetup(df['title'][i], df['source'][i].get('name'), df['url'][i], df['urlToImage'][i], df['content'][i])\n",
    "    i=i+1"
   ]
  },
  {
   "cell_type": "code",
   "execution_count": 9,
   "metadata": {},
   "outputs": [],
   "source": [
    "with open (\"index.html\", \"w\") as file:\n",
    "    file.write(htmlFirstCode + newsAllArticles + htmlLastCode)"
   ]
  },
  {
   "cell_type": "code",
   "execution_count": null,
   "metadata": {},
   "outputs": [],
   "source": []
  },
  {
   "cell_type": "code",
   "execution_count": null,
   "metadata": {},
   "outputs": [],
   "source": []
  }
 ],
 "metadata": {
  "kernelspec": {
   "display_name": "Python 3",
   "language": "python",
   "name": "python3"
  },
  "language_info": {
   "codemirror_mode": {
    "name": "ipython",
    "version": 3
   },
   "file_extension": ".py",
   "mimetype": "text/x-python",
   "name": "python",
   "nbconvert_exporter": "python",
   "pygments_lexer": "ipython3",
   "version": "3.7.6"
  }
 },
 "nbformat": 4,
 "nbformat_minor": 4
}
